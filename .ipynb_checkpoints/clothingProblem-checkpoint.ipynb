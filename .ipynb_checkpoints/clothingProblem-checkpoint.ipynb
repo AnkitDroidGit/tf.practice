{
 "cells": [
  {
   "cell_type": "code",
   "execution_count": 1,
   "metadata": {},
   "outputs": [
    {
     "name": "stdout",
     "output_type": "stream",
     "text": [
      "2.0.0-alpha0\n"
     ]
    }
   ],
   "source": [
    "#import tensorflow\n",
    "\n",
    "import tensorflow as tf\n",
    "\n",
    "print(tf.__version__)\n"
   ]
  },
  {
   "cell_type": "code",
   "execution_count": 2,
   "metadata": {},
   "outputs": [],
   "source": [
    "# getting Fashion MNIST data set from keras.\n",
    "\n",
    "mnist = tf.keras.datasets.fashion_mnist"
   ]
  },
  {
   "cell_type": "code",
   "execution_count": 3,
   "metadata": {},
   "outputs": [],
   "source": [
    "#getting training data and labels as well as test data and labels\n",
    "\n",
    "(training_images, training_labels), (test_images, test_labels) = mnist.load_data()"
   ]
  },
  {
   "cell_type": "code",
   "execution_count": 4,
   "metadata": {},
   "outputs": [
    {
     "name": "stdout",
     "output_type": "stream",
     "text": [
      "[[  0   0   0   1   0   0   0   0   0  34 148 202 107  84 162 198  90  26\n",
      "    0   0   0   0   0   0   0   0   0   0]\n",
      " [  0   0   0   0   0   0  21 107 166 168 152 204 238 248 237 190 142 178\n",
      "  158  98  17   0   0   0   0   0   0   0]\n",
      " [  0   0   0   1   0  55 188 140 131 121 119 116 146 157 132 115 136 125\n",
      "  140 143 181  51   0   0   0   0   0   0]\n",
      " [  0   0   0   0   0 167 134 113 130 134 140 132 125 125 131 135 130 133\n",
      "  131 115 135 163   6   0   0   0   0   0]\n",
      " [  0   0   0   0  58 148 133 124 134 128 135 128 133 130 133 137 138 130\n",
      "  124 130 133 147  82   0   1   0   0   0]\n",
      " [  0   0   0   0  86 148 158 139 124 120 131 134 132 134 124 134 132 137\n",
      "  126 137 136 146 114   0   0   0   0   0]\n",
      " [  0   0   0   0 112 141 174 143 117 134 130 128 131 136 134 128 128 131\n",
      "  106 187 149 147 143   0   0   0   0   0]\n",
      " [  0   0   0   0 134 151 167 154 114 134 138 139 135 135 130 130 124 129\n",
      "  119 229 141 145 164   0   0   0   0   0]\n",
      " [  0   0   0   0 136 154 169 157 109 147 140 137 137 136 142 141 139 129\n",
      "  123 201 146 138 172  21   0   0   0   0]\n",
      " [  0   0   0   0 145 158 171 175 111 136 145 136 135 138 137 143 146 140\n",
      "  122 184 167 136 170  58   0   0   0   0]\n",
      " [  0   0   0   0 151 155 189 183 120 135 132 136 135 133 128 130 134 120\n",
      "  153 230 156 135 167  83   0   0   0   0]\n",
      " [  0   0   0   1 166 151 208 175 116 142 144 138 149 133 131 137 140 119\n",
      "  126 206 198 141 166 101   0   0   0   0]\n",
      " [  0   0   0   6 169 146 237 187 104 131 136 149 147 137 137 137 132 137\n",
      "  113 166 206 151 162 126   0   0   0   0]\n",
      " [  0   0   0  20 180 136 231 214 105 134 140 139 136 137 136 148 134 149\n",
      "  111 139 255 151 158 147   0   0   0   0]\n",
      " [  0   0   0  33 184 109 217 182 105 124 143 131 135 137 139 138 131 142\n",
      "  132  99 249 162 157 172   0   0   0   0]\n",
      " [  0   0   0  35 180 112 233 143 109 133 145 146 142 142 139 141 135 141\n",
      "  152 101 205 163 154 170   0   0   0   0]\n",
      " [  0   0   0  42 183 123 217 117 126 137 140 134 137 135 143 141 133 133\n",
      "  149 107 166 176 153 169  14   0   0   0]\n",
      " [  0   0   0  48 175 147 210 101 119 136 142 137 142 139 147 142 146 126\n",
      "  138 102 131 197 161 183  32   0   0   0]\n",
      " [  0   0   0  56 165 163 213  74 126 138 149 133 133 132 141 134 142 132\n",
      "  132 126 117 193 162 172  39   0   0   0]\n",
      " [  0   0   0  62 157 165 227  39 135 138 136 142 146 143 136 138 134 141\n",
      "  134 116  78 197 171 156  44   0   0   0]\n",
      " [  0   0   0  65 162 169 245  39 140 133 133 128 132 134 143 145 134 133\n",
      "  134 128  36 208 172 151  55   0   0   0]\n",
      " [  0   0   0  72 147 168 244  25 142 137 138 133 128 132 147 145 135 136\n",
      "  133 131  26 207 173 149  67   0   0   0]\n",
      " [  0   0   0  68 153 179 250  11 135 134 139 133 136 140 140 143 145 140\n",
      "  131 126  32 207 175 136  73   0   0   0]\n",
      " [  0   0   0  61 155 180 252  23 151 132 131 133 133 129 135 140 132 139\n",
      "  132 139  38 221 174 135  77   0   0   0]\n",
      " [  0   0   0  18 147 187 185   3 173 153 151 150 153 150 150 153 148 151\n",
      "  146 161   4 184 175 136  37   0   0   0]\n",
      " [  0   0   0   0 150 204  76   0 213 165 167 170 172 171 169 170 172 167\n",
      "  160 202   0 107 196 152   0   0   0   0]\n",
      " [  0   0   0   0 123 162  41   2 153 124 133 136 141 135 132 134 139 144\n",
      "  141 132   0  67 153 142   0   0   0   0]\n",
      " [  0   0   0   0   0   0   0   0   0   0   0   0   0   0   0   0   0   0\n",
      "    0   0   0   0   0   0   0   0   0   0]]\n",
      "2\n"
     ]
    }
   ],
   "source": [
    "# import matplotlib\n",
    "import matplotlib.pyplot as plt\n",
    "\n",
    "plt.imshow(training_images[45])\n",
    "\n",
    "print(training_images[45])\n",
    "print(training_labels[45])"
   ]
  },
  {
   "cell_type": "code",
   "execution_count": 5,
   "metadata": {},
   "outputs": [],
   "source": [
    "training_images = training_images/255.0\n",
    "training_labels = training_labels/255.0"
   ]
  },
  {
   "cell_type": "code",
   "execution_count": 6,
   "metadata": {},
   "outputs": [],
   "source": [
    "model = tf.keras.models.Sequential([tf.keras.layers.Flatten(), \n",
    "                                    tf.keras.layers.Dense(128, activation=tf.nn.relu), \n",
    "                                    tf.keras.layers.Dense(10, activation=tf.nn.softmax)])"
   ]
  },
  {
   "cell_type": "code",
   "execution_count": 8,
   "metadata": {},
   "outputs": [
    {
     "name": "stdout",
     "output_type": "stream",
     "text": [
      "Epoch 1/5\n",
      "60000/60000 [==============================] - 3s 57us/sample - loss: 0.0028 - accuracy: 0.0999\n",
      "Epoch 2/5\n",
      "60000/60000 [==============================] - 3s 42us/sample - loss: 1.9540e-06 - accuracy: 0.1000\n",
      "Epoch 3/5\n",
      "60000/60000 [==============================] - 3s 42us/sample - loss: 4.7453e-07 - accuracy: 0.1000\n",
      "Epoch 4/5\n",
      "60000/60000 [==============================] - 2s 41us/sample - loss: 1.3705e-07 - accuracy: 0.1000\n",
      "Epoch 5/5\n",
      "60000/60000 [==============================] - 2s 41us/sample - loss: 4.3552e-08 - accuracy: 0.1000\n"
     ]
    },
    {
     "data": {
      "text/plain": [
       "<tensorflow.python.keras.callbacks.History at 0xb44ef0dd8>"
      ]
     },
     "execution_count": 8,
     "metadata": {},
     "output_type": "execute_result"
    }
   ],
   "source": [
    "model.compile(optimizer = 'adam',\n",
    "              loss = 'sparse_categorical_crossentropy',\n",
    "              metrics=['accuracy'])\n",
    "\n",
    "model.fit(training_images, training_labels, epochs=5)"
   ]
  },
  {
   "cell_type": "code",
   "execution_count": null,
   "metadata": {},
   "outputs": [],
   "source": []
  }
 ],
 "metadata": {
  "kernelspec": {
   "display_name": "Python 3",
   "language": "python",
   "name": "python3"
  },
  "language_info": {
   "codemirror_mode": {
    "name": "ipython",
    "version": 3
   },
   "file_extension": ".py",
   "mimetype": "text/x-python",
   "name": "python",
   "nbconvert_exporter": "python",
   "pygments_lexer": "ipython3",
   "version": "3.7.0"
  }
 },
 "nbformat": 4,
 "nbformat_minor": 2
}
